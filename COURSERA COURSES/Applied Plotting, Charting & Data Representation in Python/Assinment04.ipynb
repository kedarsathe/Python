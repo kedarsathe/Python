{
 "cells": [
  {
   "cell_type": "markdown",
   "metadata": {},
   "source": [
    "# Assignment 4\n",
    "\n",
    "Before working on this assignment please read these instructions fully. In the submission area, you will notice that you can click the link to **Preview the Grading** for each step of the assignment. This is the criteria that will be used for peer grading. Please familiarize yourself with the criteria before beginning the assignment.\n",
    "\n",
    "This assignment requires that you to find **at least** two datasets on the web which are related, and that you visualize these datasets to answer a question with the broad topic of **sports or athletics** (see below) for the region of **Ann Arbor, Michigan, United States**, or **United States** more broadly.\n",
    "\n",
    "You can merge these datasets with data from different regions if you like! For instance, you might want to compare **Ann Arbor, Michigan, United States** to Ann Arbor, USA. In that case at least one source file must be about **Ann Arbor, Michigan, United States**.\n",
    "\n",
    "You are welcome to choose datasets at your discretion, but keep in mind **they will be shared with your peers**, so choose appropriate datasets. Sensitive, confidential, illicit, and proprietary materials are not good choices for datasets for this assignment. You are welcome to upload datasets of your own as well, and link to them using a third party repository such as github, bitbucket, pastebin, etc. Please be aware of the Coursera terms of service with respect to intellectual property.\n",
    "\n",
    "Also, you are welcome to preserve data in its original language, but for the purposes of grading you should provide english translations. You are welcome to provide multiple visuals in different languages if you would like!\n",
    "\n",
    "As this assignment is for the whole course, you must incorporate principles discussed in the first week, such as having as high data-ink ratio (Tufte) and aligning with Cairo’s principles of truth, beauty, function, and insight.\n",
    "\n",
    "Here are the assignment instructions:\n",
    "\n",
    " * State the region and the domain category that your data sets are about (e.g., **Ann Arbor, Michigan, United States** and **sports or athletics**).\n",
    " * You must state a question about the domain category and region that you identified as being interesting.\n",
    " * You must provide at least two links to available datasets. These could be links to files such as CSV or Excel files, or links to websites which might have data in tabular form, such as Wikipedia pages.\n",
    " * You must upload an image which addresses the research question you stated. In addition to addressing the question, this visual should follow Cairo's principles of truthfulness, functionality, beauty, and insightfulness.\n",
    " * You must contribute a short (1-2 paragraph) written justification of how your visualization addresses your stated research question.\n",
    "\n",
    "What do we mean by **sports or athletics**?  For this category we are interested in sporting events or athletics broadly, please feel free to creatively interpret the category when building your research question!\n",
    "\n",
    "## Tips\n",
    "* Wikipedia is an excellent source of data, and I strongly encourage you to explore it for new data sources.\n",
    "* Many governments run open data initiatives at the city, region, and country levels, and these are wonderful resources for localized data sources.\n",
    "* Several international agencies, such as the [United Nations](http://data.un.org/), the [World Bank](http://data.worldbank.org/), the [Global Open Data Index](http://index.okfn.org/place/) are other great places to look for data.\n",
    "* This assignment requires you to convert and clean datafiles. Check out the discussion forums for tips on how to do this from various sources, and share your successes with your fellow students!\n",
    "\n",
    "## Example\n",
    "Looking for an example? Here's what our course assistant put together for the **Ann Arbor, MI, USA** area using **sports and athletics** as the topic. [Example Solution File](./readonly/Assignment4_example.pdf)"
   ]
  },
  {
   "cell_type": "code",
   "execution_count": 1,
   "metadata": {},
   "outputs": [
    {
     "data": {
      "image/png": "[encoded data removed]",
      "text/plain": [
       "<Figure size 432x288 with 1 Axes>"
      ]
     },
     "metadata": {
      "needs_background": "light"
     },
     "output_type": "display_data"
    }
   ],
   "source": [
    "import pandas as pd \n",
    "import numpy as np\n",
    "import matplotlib.pyplot as plt\n",
    "\n",
    "Rainfall = pd.read_excel('Rain_1961_1990.xls')\n",
    "\n",
    "Temperature = pd.read_excel('Temp_1961_1990.xls')\n",
    "\n",
    "\n",
    "Monthly_Temp = Temperature.groupby(' Month').mean()['tas']\n",
    "Jan = Monthly_Temp.iloc[0]\n",
    "Feb = Monthly_Temp.iloc[1]\n",
    "Mar = Monthly_Temp.iloc[2]\n",
    "Apr = Monthly_Temp.iloc[3]\n",
    "May = Monthly_Temp.iloc[4]\n",
    "Jun = Monthly_Temp.iloc[5]\n",
    "Jul = Monthly_Temp.iloc[6]\n",
    "Aug = Monthly_Temp.iloc[7]\n",
    "Sep = Monthly_Temp.iloc[8]\n",
    "Oct = Monthly_Temp.iloc[9]\n",
    "Nov = Monthly_Temp.iloc[10]\n",
    "Dec = Monthly_Temp.iloc[11]\n",
    "\n",
    "\n",
    "Weather = pd.DataFrame({'Snowfall': [Jan, Feb, Mar, Apr, May, Jun, Jul, Aug, Sep, Oct, Nov, Dec]})\n",
    "Weather['Temperature'] = [Jan, Feb, Mar, Apr, May, Jun, Jul, Aug, Sep, Oct, Nov, Dec]\n",
    "Monthly_Rain = Rainfall.groupby(' Month').mean()['pr']\n",
    "\n",
    "\n",
    "\n",
    "\n",
    "\n",
    "Monthly_Rain.iloc[0]\n",
    "Jan = Monthly_Rain.iloc[0]\n",
    "Feb = Monthly_Rain.iloc[1]\n",
    "Mar = Monthly_Rain.iloc[2]\n",
    "Apr = Monthly_Rain.iloc[3]\n",
    "May = Monthly_Rain.iloc[4]\n",
    "Jun = Monthly_Rain.iloc[5]\n",
    "Jul = Monthly_Rain.iloc[6]\n",
    "Aug = Monthly_Rain.iloc[7]\n",
    "Sep = Monthly_Rain.iloc[8]\n",
    "Oct = Monthly_Rain.iloc[9]\n",
    "Nov = Monthly_Rain.iloc[10]\n",
    "Dec = Monthly_Rain.iloc[11]\n",
    "\n",
    "\n",
    "\n",
    "Weather['Rainfall'] = [Jan, Feb, Mar, Apr, May, Jun, Jul, Aug, Sep, Oct, Nov, Dec]\n",
    "Weather.index = ['Jan', 'Feb', 'Mar', 'Apr', 'May', 'Jun', 'Jul', 'Aug', 'Sep', 'Oct', 'Nov', 'Dec']\n",
    "\n",
    "\n",
    "\n",
    "\n",
    "x = Weather.index.tolist()\n",
    "\n",
    "y2 = Weather['Temperature'].tolist()\n",
    "y3 = Weather['Rainfall'].tolist()\n",
    "\n",
    "\n",
    "plt.plot(x, y2,'s-',color='r',label = \"Temperature\")\n",
    "plt.plot(x, y3, color='black',label = \"Rainfall\")\n",
    "\n",
    "plt.title('Average Temperature, Snowfall and Rainfall in United States(1961-1990)')\n",
    " \n",
    "plt.legend(frameon=False)\n",
    "[plt.gca().spines[loc].set_visible(False) for loc in ['top', 'right']]\n",
    "\n",
    "plt.show()\n"
   ]
  },
  {
   "cell_type": "code",
   "execution_count": null,
   "metadata": {},
   "outputs": [],
   "source": []
  }
 ],
 "metadata": {
  "kernelspec": {
   "display_name": "Python 3",
   "language": "python",
   "name": "python3"
  },
  "language_info": {
   "codemirror_mode": {
    "name": "ipython",
    "version": 3
   },
   "file_extension": ".py",
   "mimetype": "text/x-python",
   "name": "python",
   "nbconvert_exporter": "python",
   "pygments_lexer": "ipython3",
   "version": "3.7.6"
  }
 },
 "nbformat": 4,
 "nbformat_minor": 4
}
